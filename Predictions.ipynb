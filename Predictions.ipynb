{
 "cells": [
  {
   "cell_type": "code",
   "execution_count": 10,
   "metadata": {},
   "outputs": [],
   "source": [
    "import pandas as pd\n",
    "import numpy as np\n",
    "import re\n",
    "import datetime\n",
    "from sklearn.metrics import median_absolute_error"
   ]
  },
  {
   "cell_type": "markdown",
   "metadata": {},
   "source": [
    "# Read preprocessed csv data"
   ]
  },
  {
   "cell_type": "code",
   "execution_count": 11,
   "metadata": {},
   "outputs": [
    {
     "data": {
      "text/html": [
       "<div>\n",
       "<style scoped>\n",
       "    .dataframe tbody tr th:only-of-type {\n",
       "        vertical-align: middle;\n",
       "    }\n",
       "\n",
       "    .dataframe tbody tr th {\n",
       "        vertical-align: top;\n",
       "    }\n",
       "\n",
       "    .dataframe thead th {\n",
       "        text-align: right;\n",
       "    }\n",
       "</style>\n",
       "<table border=\"1\" class=\"dataframe\">\n",
       "  <thead>\n",
       "    <tr style=\"text-align: right;\">\n",
       "      <th></th>\n",
       "      <th>host_neighbourhood</th>\n",
       "      <th>host_identity_verified</th>\n",
       "      <th>neighbourhood</th>\n",
       "      <th>city</th>\n",
       "      <th>zipcode</th>\n",
       "      <th>property_type</th>\n",
       "      <th>room_type</th>\n",
       "      <th>accommodates</th>\n",
       "      <th>bathrooms</th>\n",
       "      <th>bedrooms</th>\n",
       "      <th>...</th>\n",
       "      <th>availability_365</th>\n",
       "      <th>number_of_reviews</th>\n",
       "      <th>review_scores_rating</th>\n",
       "      <th>review_scores_accuracy</th>\n",
       "      <th>review_scores_cleanliness</th>\n",
       "      <th>review_scores_checkin</th>\n",
       "      <th>review_scores_communication</th>\n",
       "      <th>review_scores_location</th>\n",
       "      <th>review_scores_value</th>\n",
       "      <th>cancellation_policy</th>\n",
       "    </tr>\n",
       "  </thead>\n",
       "  <tbody>\n",
       "    <tr>\n",
       "      <th>0</th>\n",
       "      <td>Harlem</td>\n",
       "      <td>t</td>\n",
       "      <td>Harlem</td>\n",
       "      <td>New York</td>\n",
       "      <td>10026</td>\n",
       "      <td>Apartment</td>\n",
       "      <td>Private room</td>\n",
       "      <td>2</td>\n",
       "      <td>1.000000</td>\n",
       "      <td>1.0</td>\n",
       "      <td>...</td>\n",
       "      <td>316</td>\n",
       "      <td>164</td>\n",
       "      <td>92.000000</td>\n",
       "      <td>9.000000</td>\n",
       "      <td>9.000000</td>\n",
       "      <td>10.00000</td>\n",
       "      <td>9.000000</td>\n",
       "      <td>9.0000</td>\n",
       "      <td>9.000000</td>\n",
       "      <td>strict</td>\n",
       "    </tr>\n",
       "    <tr>\n",
       "      <th>1</th>\n",
       "      <td>Gravesend</td>\n",
       "      <td>t</td>\n",
       "      <td>Kensington</td>\n",
       "      <td>Brooklyn</td>\n",
       "      <td>11218</td>\n",
       "      <td>Apartment</td>\n",
       "      <td>Private room</td>\n",
       "      <td>4</td>\n",
       "      <td>1.000000</td>\n",
       "      <td>2.0</td>\n",
       "      <td>...</td>\n",
       "      <td>365</td>\n",
       "      <td>7</td>\n",
       "      <td>97.000000</td>\n",
       "      <td>10.000000</td>\n",
       "      <td>10.000000</td>\n",
       "      <td>10.00000</td>\n",
       "      <td>10.000000</td>\n",
       "      <td>10.0000</td>\n",
       "      <td>10.000000</td>\n",
       "      <td>moderate</td>\n",
       "    </tr>\n",
       "    <tr>\n",
       "      <th>2</th>\n",
       "      <td>Midtown</td>\n",
       "      <td>t</td>\n",
       "      <td>Midtown</td>\n",
       "      <td>New York</td>\n",
       "      <td>10018</td>\n",
       "      <td>Apartment</td>\n",
       "      <td>Entire home/apt</td>\n",
       "      <td>2</td>\n",
       "      <td>1.000000</td>\n",
       "      <td>0.0</td>\n",
       "      <td>...</td>\n",
       "      <td>365</td>\n",
       "      <td>29</td>\n",
       "      <td>97.000000</td>\n",
       "      <td>9.000000</td>\n",
       "      <td>9.000000</td>\n",
       "      <td>9.00000</td>\n",
       "      <td>10.000000</td>\n",
       "      <td>10.0000</td>\n",
       "      <td>9.000000</td>\n",
       "      <td>strict</td>\n",
       "    </tr>\n",
       "    <tr>\n",
       "      <th>3</th>\n",
       "      <td>East Williamsburg</td>\n",
       "      <td>t</td>\n",
       "      <td>Williamsburg</td>\n",
       "      <td>Brooklyn</td>\n",
       "      <td>11206</td>\n",
       "      <td>Apartment</td>\n",
       "      <td>Private room</td>\n",
       "      <td>2</td>\n",
       "      <td>1.000000</td>\n",
       "      <td>1.0</td>\n",
       "      <td>...</td>\n",
       "      <td>279</td>\n",
       "      <td>27</td>\n",
       "      <td>97.000000</td>\n",
       "      <td>10.000000</td>\n",
       "      <td>10.000000</td>\n",
       "      <td>10.00000</td>\n",
       "      <td>10.000000</td>\n",
       "      <td>10.0000</td>\n",
       "      <td>10.000000</td>\n",
       "      <td>strict</td>\n",
       "    </tr>\n",
       "    <tr>\n",
       "      <th>4</th>\n",
       "      <td>Harlem</td>\n",
       "      <td>t</td>\n",
       "      <td>Harlem</td>\n",
       "      <td>New York</td>\n",
       "      <td>10027</td>\n",
       "      <td>Apartment</td>\n",
       "      <td>Private room</td>\n",
       "      <td>2</td>\n",
       "      <td>1.000000</td>\n",
       "      <td>1.0</td>\n",
       "      <td>...</td>\n",
       "      <td>365</td>\n",
       "      <td>0</td>\n",
       "      <td>93.559763</td>\n",
       "      <td>9.575481</td>\n",
       "      <td>9.242865</td>\n",
       "      <td>9.72651</td>\n",
       "      <td>9.744402</td>\n",
       "      <td>9.4733</td>\n",
       "      <td>9.395225</td>\n",
       "      <td>strict</td>\n",
       "    </tr>\n",
       "    <tr>\n",
       "      <th>5</th>\n",
       "      <td>Clinton Hill</td>\n",
       "      <td>t</td>\n",
       "      <td>Clinton Hill</td>\n",
       "      <td>Brooklyn</td>\n",
       "      <td>11238</td>\n",
       "      <td>Other</td>\n",
       "      <td>Entire home/apt</td>\n",
       "      <td>3</td>\n",
       "      <td>1.000000</td>\n",
       "      <td>1.0</td>\n",
       "      <td>...</td>\n",
       "      <td>126</td>\n",
       "      <td>181</td>\n",
       "      <td>90.000000</td>\n",
       "      <td>9.000000</td>\n",
       "      <td>9.000000</td>\n",
       "      <td>10.00000</td>\n",
       "      <td>10.000000</td>\n",
       "      <td>9.0000</td>\n",
       "      <td>9.000000</td>\n",
       "      <td>moderate</td>\n",
       "    </tr>\n",
       "    <tr>\n",
       "      <th>6</th>\n",
       "      <td>Hell's Kitchen</td>\n",
       "      <td>t</td>\n",
       "      <td>Hell's Kitchen</td>\n",
       "      <td>New York</td>\n",
       "      <td>10036</td>\n",
       "      <td>Apartment</td>\n",
       "      <td>Entire home/apt</td>\n",
       "      <td>3</td>\n",
       "      <td>1.000000</td>\n",
       "      <td>1.0</td>\n",
       "      <td>...</td>\n",
       "      <td>17</td>\n",
       "      <td>26</td>\n",
       "      <td>88.000000</td>\n",
       "      <td>9.000000</td>\n",
       "      <td>9.000000</td>\n",
       "      <td>10.00000</td>\n",
       "      <td>10.000000</td>\n",
       "      <td>10.0000</td>\n",
       "      <td>9.000000</td>\n",
       "      <td>strict</td>\n",
       "    </tr>\n",
       "    <tr>\n",
       "      <th>7</th>\n",
       "      <td>Times Square</td>\n",
       "      <td>f</td>\n",
       "      <td>Hell's Kitchen</td>\n",
       "      <td>New York</td>\n",
       "      <td>10019</td>\n",
       "      <td>Apartment</td>\n",
       "      <td>Entire home/apt</td>\n",
       "      <td>2</td>\n",
       "      <td>1.000000</td>\n",
       "      <td>1.0</td>\n",
       "      <td>...</td>\n",
       "      <td>2</td>\n",
       "      <td>58</td>\n",
       "      <td>93.000000</td>\n",
       "      <td>9.000000</td>\n",
       "      <td>8.000000</td>\n",
       "      <td>10.00000</td>\n",
       "      <td>10.000000</td>\n",
       "      <td>10.0000</td>\n",
       "      <td>9.000000</td>\n",
       "      <td>strict</td>\n",
       "    </tr>\n",
       "    <tr>\n",
       "      <th>8</th>\n",
       "      <td>Bedford-Stuyvesant</td>\n",
       "      <td>f</td>\n",
       "      <td>Bedford-Stuyvesant</td>\n",
       "      <td>Brooklyn</td>\n",
       "      <td>11216</td>\n",
       "      <td>Apartment</td>\n",
       "      <td>Private room</td>\n",
       "      <td>2</td>\n",
       "      <td>1.132942</td>\n",
       "      <td>1.0</td>\n",
       "      <td>...</td>\n",
       "      <td>365</td>\n",
       "      <td>51</td>\n",
       "      <td>90.000000</td>\n",
       "      <td>8.000000</td>\n",
       "      <td>8.000000</td>\n",
       "      <td>10.00000</td>\n",
       "      <td>10.000000</td>\n",
       "      <td>9.0000</td>\n",
       "      <td>9.000000</td>\n",
       "      <td>strict</td>\n",
       "    </tr>\n",
       "    <tr>\n",
       "      <th>9</th>\n",
       "      <td>Greenwood Heights</td>\n",
       "      <td>f</td>\n",
       "      <td>Greenwood Heights</td>\n",
       "      <td>Brooklyn</td>\n",
       "      <td>11232</td>\n",
       "      <td>Apartment</td>\n",
       "      <td>Entire home/apt</td>\n",
       "      <td>4</td>\n",
       "      <td>1.500000</td>\n",
       "      <td>3.0</td>\n",
       "      <td>...</td>\n",
       "      <td>358</td>\n",
       "      <td>1</td>\n",
       "      <td>97.000000</td>\n",
       "      <td>10.000000</td>\n",
       "      <td>10.000000</td>\n",
       "      <td>10.00000</td>\n",
       "      <td>10.000000</td>\n",
       "      <td>8.0000</td>\n",
       "      <td>10.000000</td>\n",
       "      <td>strict</td>\n",
       "    </tr>\n",
       "  </tbody>\n",
       "</table>\n",
       "<p>10 rows × 30 columns</p>\n",
       "</div>"
      ],
      "text/plain": [
       "   host_neighbourhood host_identity_verified       neighbourhood       city  \\\n",
       "0              Harlem                      t              Harlem   New York   \n",
       "1           Gravesend                      t          Kensington  Brooklyn    \n",
       "2             Midtown                      t             Midtown   New York   \n",
       "3   East Williamsburg                      t        Williamsburg   Brooklyn   \n",
       "4              Harlem                      t              Harlem   New York   \n",
       "5        Clinton Hill                      t        Clinton Hill   Brooklyn   \n",
       "6      Hell's Kitchen                      t      Hell's Kitchen   New York   \n",
       "7        Times Square                      f      Hell's Kitchen   New York   \n",
       "8  Bedford-Stuyvesant                      f  Bedford-Stuyvesant   Brooklyn   \n",
       "9   Greenwood Heights                      f   Greenwood Heights   Brooklyn   \n",
       "\n",
       "  zipcode property_type        room_type  accommodates  bathrooms  bedrooms  \\\n",
       "0   10026     Apartment     Private room             2   1.000000       1.0   \n",
       "1   11218     Apartment     Private room             4   1.000000       2.0   \n",
       "2   10018     Apartment  Entire home/apt             2   1.000000       0.0   \n",
       "3   11206     Apartment     Private room             2   1.000000       1.0   \n",
       "4   10027     Apartment     Private room             2   1.000000       1.0   \n",
       "5   11238         Other  Entire home/apt             3   1.000000       1.0   \n",
       "6   10036     Apartment  Entire home/apt             3   1.000000       1.0   \n",
       "7   10019     Apartment  Entire home/apt             2   1.000000       1.0   \n",
       "8   11216     Apartment     Private room             2   1.132942       1.0   \n",
       "9   11232     Apartment  Entire home/apt             4   1.500000       3.0   \n",
       "\n",
       "          ...           availability_365 number_of_reviews  \\\n",
       "0         ...                        316               164   \n",
       "1         ...                        365                 7   \n",
       "2         ...                        365                29   \n",
       "3         ...                        279                27   \n",
       "4         ...                        365                 0   \n",
       "5         ...                        126               181   \n",
       "6         ...                         17                26   \n",
       "7         ...                          2                58   \n",
       "8         ...                        365                51   \n",
       "9         ...                        358                 1   \n",
       "\n",
       "   review_scores_rating  review_scores_accuracy  review_scores_cleanliness  \\\n",
       "0             92.000000                9.000000                   9.000000   \n",
       "1             97.000000               10.000000                  10.000000   \n",
       "2             97.000000                9.000000                   9.000000   \n",
       "3             97.000000               10.000000                  10.000000   \n",
       "4             93.559763                9.575481                   9.242865   \n",
       "5             90.000000                9.000000                   9.000000   \n",
       "6             88.000000                9.000000                   9.000000   \n",
       "7             93.000000                9.000000                   8.000000   \n",
       "8             90.000000                8.000000                   8.000000   \n",
       "9             97.000000               10.000000                  10.000000   \n",
       "\n",
       "   review_scores_checkin  review_scores_communication  review_scores_location  \\\n",
       "0               10.00000                     9.000000                  9.0000   \n",
       "1               10.00000                    10.000000                 10.0000   \n",
       "2                9.00000                    10.000000                 10.0000   \n",
       "3               10.00000                    10.000000                 10.0000   \n",
       "4                9.72651                     9.744402                  9.4733   \n",
       "5               10.00000                    10.000000                  9.0000   \n",
       "6               10.00000                    10.000000                 10.0000   \n",
       "7               10.00000                    10.000000                 10.0000   \n",
       "8               10.00000                    10.000000                  9.0000   \n",
       "9               10.00000                    10.000000                  8.0000   \n",
       "\n",
       "   review_scores_value  cancellation_policy  \n",
       "0             9.000000               strict  \n",
       "1            10.000000             moderate  \n",
       "2             9.000000               strict  \n",
       "3            10.000000               strict  \n",
       "4             9.395225               strict  \n",
       "5             9.000000             moderate  \n",
       "6             9.000000               strict  \n",
       "7             9.000000               strict  \n",
       "8             9.000000               strict  \n",
       "9            10.000000               strict  \n",
       "\n",
       "[10 rows x 30 columns]"
      ]
     },
     "execution_count": 11,
     "metadata": {},
     "output_type": "execute_result"
    }
   ],
   "source": [
    "data_features = pd.read_csv('data/preprocessed.csv')\n",
    "data_features[0:10]"
   ]
  },
  {
   "cell_type": "markdown",
   "metadata": {},
   "source": [
    "# Read Class Labels (Prices)"
   ]
  },
  {
   "cell_type": "code",
   "execution_count": 12,
   "metadata": {},
   "outputs": [],
   "source": [
    "data_values = pd.read_csv('data/airbnb_class.csv')\n",
    "prices = []\n",
    "def removeDollar(col):\n",
    "    for i in range(len(data_values[col])):\n",
    "        price = data_values['price'][i]\n",
    "        price = re.sub('[,$]', '', price)\n",
    "        prices.append(float(price))\n",
    "    print prices[0:3] , len(prices)"
   ]
  },
  {
   "cell_type": "markdown",
   "metadata": {},
   "source": [
    "# Converting Price values to float [Class Labels] "
   ]
  },
  {
   "cell_type": "code",
   "execution_count": 13,
   "metadata": {},
   "outputs": [
    {
     "name": "stdout",
     "output_type": "stream",
     "text": [
      "     price\n",
      "0   $59.00\n",
      "1   $39.00\n",
      "2  $225.00\n",
      "[59.0, 39.0, 225.0] 48852\n"
     ]
    }
   ],
   "source": [
    "print data_values[0:3]\n",
    "removeDollar('price')"
   ]
  },
  {
   "cell_type": "code",
   "execution_count": 14,
   "metadata": {
    "scrolled": false
   },
   "outputs": [],
   "source": [
    "from collections import defaultdict\n",
    "dd = defaultdict(list)\n",
    "dict_data_features = data_features.to_dict('records')"
   ]
  },
  {
   "cell_type": "code",
   "execution_count": 15,
   "metadata": {},
   "outputs": [
    {
     "name": "stdout",
     "output_type": "stream",
     "text": [
      "(48852L, 1403L)\n"
     ]
    },
    {
     "data": {
      "text/plain": [
       "array([[  2.,   9., 316., ...,   0.,   0.,   0.],\n",
       "       [  4.,  30., 365., ...,   0.,   0.,   0.],\n",
       "       [  2.,  30., 365., ...,   0.,   0.,   0.],\n",
       "       ...,\n",
       "       [  3.,   0.,   0., ...,   0.,   0.,   0.],\n",
       "       [  4.,   1.,   1., ...,   0.,   0.,   0.],\n",
       "       [  1.,   2.,  30., ...,   0.,   0.,   0.]])"
      ]
     },
     "execution_count": 15,
     "metadata": {},
     "output_type": "execute_result"
    }
   ],
   "source": [
    "from sklearn.feature_extraction import DictVectorizer\n",
    "vec = DictVectorizer()\n",
    "data_features_array = vec.fit_transform(dict_data_features).toarray()\n",
    "print data_features_array.shape\n",
    "data_features_array"
   ]
  },
  {
   "cell_type": "markdown",
   "metadata": {},
   "source": [
    "# splitting the data set to train & test"
   ]
  },
  {
   "cell_type": "code",
   "execution_count": 16,
   "metadata": {},
   "outputs": [
    {
     "name": "stdout",
     "output_type": "stream",
     "text": [
      "(39081L, 1403L) (9771L, 1403L)\n"
     ]
    }
   ],
   "source": [
    "from sklearn.model_selection import train_test_split\n",
    "start = datetime.datetime.now()\n",
    "X_train, X_test, y_train, y_test = train_test_split(data_features_array, prices, test_size=0.2, random_state=1)\n",
    "print X_train.shape, X_test.shape"
   ]
  },
  {
   "cell_type": "code",
   "execution_count": 17,
   "metadata": {},
   "outputs": [
    {
     "name": "stdout",
     "output_type": "stream",
     "text": [
      "Time taken:  0:00:26.285000\n",
      "MAE:  36.73052978515625\n"
     ]
    }
   ],
   "source": [
    "from sklearn import linear_model\n",
    "reg = linear_model.LinearRegression()\n",
    "start = datetime.datetime.now()\n",
    "reg.fit(X_train, y_train)\n",
    "end = datetime.datetime.now()\n",
    "print  \"Time taken: \", end - start\n",
    "predict = reg.predict(X_test)\n",
    "print \"MAE: \", median_absolute_error(y_test, predict)"
   ]
  },
  {
   "cell_type": "code",
   "execution_count": 26,
   "metadata": {},
   "outputs": [
    {
     "name": "stdout",
     "output_type": "stream",
     "text": [
      "Time taken:  0:14:53.632000\n",
      "MAE:  45.0\n"
     ]
    }
   ],
   "source": [
    "from sklearn.linear_model import SGDClassifier\n",
    "start = datetime.datetime.now()\n",
    "clf = SGDClassifier(loss=\"log\", penalty=\"l1\")\n",
    "clf.fit(X_train, y_train)\n",
    "end = datetime.datetime.now()\n",
    "print \"Time taken: \", end - start\n",
    "predict1 = clf.predict(X_test)\n",
    "print \"MAE: \", median_absolute_error(y_test, predict1)"
   ]
  },
  {
   "cell_type": "code",
   "execution_count": 19,
   "metadata": {},
   "outputs": [
    {
     "name": "stdout",
     "output_type": "stream",
     "text": [
      "Time taken:  0:00:11.968000\n",
      "33.35164361856056\n"
     ]
    }
   ],
   "source": [
    "from sklearn import linear_model\n",
    "start = datetime.datetime.now()\n",
    "reg = linear_model.Ridge(alpha = 1000.0)\n",
    "reg.fit (X_train, y_train) \n",
    "end = datetime.datetime.now()\n",
    "print  \"Time taken: \", end - start\n",
    "predict1 = reg.predict(X_test)\n",
    "print median_absolute_error(y_test, predict1)"
   ]
  },
  {
   "cell_type": "code",
   "execution_count": 20,
   "metadata": {},
   "outputs": [
    {
     "name": "stdout",
     "output_type": "stream",
     "text": [
      "Time taken:  0:00:05.212000\n",
      "MAE:  33.80188430181772\n"
     ]
    }
   ],
   "source": [
    "from sklearn import linear_model\n",
    "start = datetime.datetime.now()\n",
    "reg = linear_model.LassoLars(alpha=0.06)\n",
    "reg.fit (X_train, y_train) \n",
    "end = datetime.datetime.now()\n",
    "print  \"Time taken: \", end - start\n",
    "predict1 = reg.predict(X_test)\n",
    "print \"MAE: \", median_absolute_error(y_test, predict1)"
   ]
  },
  {
   "cell_type": "code",
   "execution_count": 21,
   "metadata": {},
   "outputs": [
    {
     "name": "stdout",
     "output_type": "stream",
     "text": [
      "Time taken:  0:00:35.665000\n",
      "MAE:  35.039555470611646\n"
     ]
    }
   ],
   "source": [
    "start = datetime.datetime.now()\n",
    "reg = linear_model.BayesianRidge(alpha_1=0.01)\n",
    "reg.fit (X_train, y_train) \n",
    "end = datetime.datetime.now()\n",
    "print  \"Time taken: \", end - start\n",
    "predict1 = reg.predict(X_test)\n",
    "print \"MAE: \", median_absolute_error(y_test, predict1)"
   ]
  },
  {
   "cell_type": "code",
   "execution_count": 27,
   "metadata": {},
   "outputs": [
    {
     "name": "stdout",
     "output_type": "stream",
     "text": [
      "Time taken for lasso lars:  0:00:20.286000\n",
      "MAE for Lasso Lars:  36.163107544196976\n",
      "Time taken for ridge regression:  0:00:05.979000\n",
      "MAE for ridge regression:  33.126900498248176\n",
      "Difference:  3.0362070459487995\n",
      "Average MAE:  30.864148110142267\n",
      "Time taken for lasso lars:  0:00:03.705000\n",
      "MAE for Lasso Lars:  34.80869113728913\n",
      "Time taken for ridge regression:  0:00:03.055000\n",
      "MAE for ridge regression:  32.49685101581886\n",
      "Difference:  2.3118401214702686\n",
      "Average MAE:  29.789418038997965\n",
      "Time taken for lasso lars:  0:00:10.180000\n",
      "MAE for Lasso Lars:  35.36299177202366\n",
      "Time taken for ridge regression:  0:00:12.176000\n",
      "MAE for ridge regression:  33.15665187258989\n",
      "Difference:  2.2063398994337717\n",
      "Average MAE:  31.769743802806286\n",
      "Time taken for lasso lars:  0:00:09.152000\n",
      "MAE for Lasso Lars:  34.91894424842488\n",
      "Time taken for ridge regression:  0:00:05.532000\n",
      "MAE for ridge regression:  31.86759352096331\n",
      "Difference:  3.0513507274615677\n",
      "Average MAE:  30.367463542729134\n",
      "Time taken for lasso lars:  0:00:03.327000\n",
      "MAE for Lasso Lars:  34.1578282690555\n",
      "Time taken for ridge regression:  0:00:03.249000\n",
      "MAE for ridge regression:  33.032797568319154\n",
      "Difference:  1.125030700736346\n",
      "Average MAE:  31.441605506729147\n",
      "Time taken for lasso lars:  0:00:07.224000\n",
      "MAE for Lasso Lars:  34.35864647854787\n",
      "Time taken for ridge regression:  0:00:07.223000\n",
      "MAE for ridge regression:  32.9148358151803\n",
      "Difference:  1.4438106633675716\n",
      "Average MAE:  31.488974784403652\n",
      "Time taken for lasso lars:  0:00:12.124000\n",
      "MAE for Lasso Lars:  34.54273110410372\n",
      "Time taken for ridge regression:  0:00:08.455000\n",
      "MAE for ridge regression:  33.93788743489016\n",
      "Difference:  0.6048436692135652\n",
      "Average MAE:  31.12796200806938\n",
      "Time taken for lasso lars:  0:00:04.038000\n",
      "MAE for Lasso Lars:  31.828774883742\n",
      "Time taken for ridge regression:  0:00:03.013000\n",
      "MAE for ridge regression:  33.56297530761114\n",
      "Difference:  -1.7342004238691402\n",
      "Average MAE:  30.690014994024523\n",
      "Time taken for lasso lars:  0:00:03.328000\n",
      "MAE for Lasso Lars:  33.82888597298121\n",
      "Time taken for ridge regression:  0:00:02.985000\n",
      "MAE for ridge regression:  33.576875452079804\n",
      "Difference:  0.25201052090140763\n",
      "Average MAE:  31.946356926158728\n",
      "Time taken for lasso lars:  0:00:03.218000\n",
      "MAE for Lasso Lars:  36.72506043657367\n",
      "Time taken for ridge regression:  0:00:03.167000\n",
      "MAE for ridge regression:  40.10406363160328\n",
      "Difference:  -3.379003195029611\n",
      "Average MAE:  36.25811543895736\n",
      "34.6695661847\n",
      "33.7777432117\n",
      "31.5743803153\n"
     ]
    }
   ],
   "source": [
    "prices = np.asarray(prices)\n",
    "from sklearn.model_selection import StratifiedKFold\n",
    "skf = StratifiedKFold(n_splits=10)\n",
    "lass = []\n",
    "rid = []\n",
    "avg = []\n",
    "for train, test in skf.split(data_features_array, prices):\n",
    "    X_train = data_features_array[train]\n",
    "    X_test = data_features_array[test]\n",
    "    y_train = prices[train]\n",
    "    y_test = prices[test]\n",
    "    start = datetime.datetime.now()\n",
    "    reg = linear_model.LassoLars(alpha=0.06)\n",
    "    reg.fit (X_train, y_train) \n",
    "    end = datetime.datetime.now()\n",
    "    print  \"Time taken for lasso lars: \", end - start\n",
    "    predict1 = reg.predict(X_test)\n",
    "    lassoLars = median_absolute_error(y_test, predict1)\n",
    "    lass.append(lassoLars)\n",
    "    print \"MAE for Lasso Lars: \", lassoLars\n",
    "    start = datetime.datetime.now()\n",
    "    reg = linear_model.Ridge(alpha = 1000.0)\n",
    "    reg.fit (X_train, y_train) \n",
    "    end = datetime.datetime.now()\n",
    "    print  \"Time taken for ridge regression: \", end - start\n",
    "    predict2 = reg.predict(X_test)\n",
    "    ridge = median_absolute_error(y_test, predict2)\n",
    "    rid.append(ridge)\n",
    "    print \"MAE for ridge regression: \", median_absolute_error(y_test, predict2)\n",
    "    print \"Difference: \", lassoLars - ridge\n",
    "    print \"Average MAE: \", median_absolute_error(y_test, ((predict1 + predict2)/2.0))\n",
    "    avg.append(median_absolute_error(y_test, ((predict1 + predict2)/2.0)))\n",
    "total = 0.00\n",
    "for i in lass:\n",
    "    total = total + float(i)\n",
    "print total/len(lass)\n",
    "\n",
    "total = 0.00\n",
    "for i in rid:\n",
    "    total = total + float(i)\n",
    "print total/len(rid)\n",
    "\n",
    "total = 0.00\n",
    "for i in avg:\n",
    "    total = total + float(i)\n",
    "print total/len(avg)"
   ]
  },
  {
   "cell_type": "code",
   "execution_count": 23,
   "metadata": {},
   "outputs": [
    {
     "name": "stdout",
     "output_type": "stream",
     "text": [
      "31.5743803153\n"
     ]
    }
   ],
   "source": [
    "total = 0.00\n",
    "for i in avg:\n",
    "    total = total + float(i)\n",
    "print total/len(avg)"
   ]
  },
  {
   "cell_type": "code",
   "execution_count": 24,
   "metadata": {},
   "outputs": [],
   "source": [
    "predictValues = [{\n",
    "  'accommodates': 2,\n",
    "  'availability_30': 24,\n",
    "  'availability_365': 170,\n",
    "  'availability_60': 54,\n",
    "  'availability_90': 80,\n",
    "  'bathrooms': 1.0,\n",
    "  'bed_type': 'Real Bed',\n",
    "  'bedrooms': 1.0,\n",
    "  'beds': 1.0,\n",
    "  'cancellation_policy': 'moderate',\n",
    "  'city': 'Bronx',\n",
    "  'cleaning_fee': '$50.00',\n",
    "  'extra_people': '$20.00',\n",
    "  'guests_included': 1.0,\n",
    "  'host_identity_verified': 't',\n",
    "  'host_neighbourhood': 'City Island',\n",
    "  'neighbourhood': 'City Island',\n",
    "  'number_of_reviews': 25,\n",
    "  'property_type': 'House',\n",
    "  'review_scores_accuracy': 10.0,\n",
    "  'review_scores_checkin': 10.0,\n",
    "  'review_scores_cleanliness': 10.0,\n",
    "  'review_scores_communication': 10.0,\n",
    "  'review_scores_location': 10.0,\n",
    "  'review_scores_rating': 100.0,\n",
    "  'review_scores_value': 10.0,\n",
    "  'room_type': 'Private room',\n",
    "  'security_deposit': '$100.00',\n",
    "  'square_feet': 718.1781305110001,\n",
    "  'zipcode': '10464'\n",
    "}]"
   ]
  },
  {
   "cell_type": "code",
   "execution_count": 25,
   "metadata": {},
   "outputs": [
    {
     "name": "stdout",
     "output_type": "stream",
     "text": [
      "hello, array:  [[  2.  24. 170. ...   0.   0.   0.]]\n",
      "reg:  Ridge(alpha=1000.0, copy_X=True, fit_intercept=True, max_iter=None,\n",
      "   normalize=False, random_state=None, solver='auto', tol=0.001)\n",
      "Predicted value is:--> [57.24562104]\n",
      "57.24562104078424\n"
     ]
    }
   ],
   "source": [
    "hello = vec.transform(predictValues)\n",
    "print \"hello, array: \", hello.toarray()\n",
    "reg = linear_model.Ridge(alpha = 1000.0)\n",
    "reg.fit (X_train, y_train) \n",
    "print \"reg: \", reg\n",
    "super_predict = reg.predict(hello.toarray())\n",
    "print \"Predicted value is:-->\", super_predict\n",
    "price = str(super_predict[0])\n",
    "print price"
   ]
  },
  {
   "cell_type": "code",
   "execution_count": null,
   "metadata": {},
   "outputs": [],
   "source": []
  }
 ],
 "metadata": {
  "kernelspec": {
   "display_name": "Python 2",
   "language": "python",
   "name": "python2"
  },
  "language_info": {
   "codemirror_mode": {
    "name": "ipython",
    "version": 2
   },
   "file_extension": ".py",
   "mimetype": "text/x-python",
   "name": "python",
   "nbconvert_exporter": "python",
   "pygments_lexer": "ipython2",
   "version": "2.7.14"
  }
 },
 "nbformat": 4,
 "nbformat_minor": 2
}
